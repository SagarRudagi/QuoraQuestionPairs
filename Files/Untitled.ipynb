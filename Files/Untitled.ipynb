{
 "cells": [
  {
   "cell_type": "code",
   "execution_count": null,
   "id": "21c789c5",
   "metadata": {},
   "outputs": [],
   "source": [
    "import pandas as pd\n",
    "import tensorflow as tf"
   ]
  },
  {
   "cell_type": "code",
   "execution_count": null,
   "id": "2aa57c5d",
   "metadata": {},
   "outputs": [],
   "source": [
    "df = pd.read_csv('quora-question-pairs/train.csv')\n",
    "df"
   ]
  },
  {
   "cell_type": "code",
   "execution_count": null,
   "id": "32c4ee2d",
   "metadata": {},
   "outputs": [],
   "source": [
    "def load_data(df):\n",
    "    question1 = df['\"question1\"'].astype(str).values\n",
    "    question2 = df['\"question2\"'].astype(str).values\n",
    "    # combined: to get the tokens\n",
    "    df['combined'] = df['\"question1\"'] + df['\"question2\"']\n",
    "    labels = df['\"is_duplicate\"'].values\n",
    "    return question1, question2, labels\n",
    "question1, question2, labels = load_data(df)\n",
    "question1 = list(question1)\n",
    "question2 = list(question2)\n",
    "combined = question1 + question2df.head()"
   ]
  }
 ],
 "metadata": {
  "kernelspec": {
   "display_name": "Python 3",
   "language": "python",
   "name": "python3"
  },
  "language_info": {
   "codemirror_mode": {
    "name": "ipython",
    "version": 3
   },
   "file_extension": ".py",
   "mimetype": "text/x-python",
   "name": "python",
   "nbconvert_exporter": "python",
   "pygments_lexer": "ipython3",
   "version": "3.8.8"
  }
 },
 "nbformat": 4,
 "nbformat_minor": 5
}
